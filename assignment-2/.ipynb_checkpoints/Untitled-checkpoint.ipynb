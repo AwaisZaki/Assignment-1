{
 "cells": [
  {
   "cell_type": "code",
   "execution_count": 11,
   "metadata": {},
   "outputs": [
    {
     "name": "stdout",
     "output_type": "stream",
     "text": [
      "LARGEST NUM IN A LIST\n",
      "1\n"
     ]
    }
   ],
   "source": [
    "print(\"LARGEST NUM IN A LIST\")\n",
    "# list = [1, 100, 3, 4, 6, 2, 22, 54, 11]\n",
    "list = [2, 1, 3]\n",
    "print(list[1])\n"
   ]
  },
  {
   "cell_type": "code",
   "execution_count": 12,
   "metadata": {},
   "outputs": [
    {
     "name": "stdout",
     "output_type": "stream",
     "text": [
      "LARGEST NUM IN A LIST\n",
      "1\n"
     ]
    }
   ],
   "source": [
    "print(\"LARGEST NUM IN A LIST\")\n",
    "# list = [1, 100, 3, 4, 6, 2, 22, 54, 11]\n",
    "list = [2,1, 3]\n",
    "print(list[1])\n",
    "# print(\"LIST ITEMS \", list)\n",
    "\n",
    "# for items in list:\n",
    "    \n",
    "# print(\"SUM OF THE LIST ITEM: \", sum)"
   ]
  },
  {
   "cell_type": "code",
   "execution_count": 13,
   "metadata": {},
   "outputs": [
    {
     "ename": "SyntaxError",
     "evalue": "invalid syntax (<ipython-input-13-7c1dddcd1d2e>, line 8)",
     "output_type": "error",
     "traceback": [
      "\u001b[1;36m  File \u001b[1;32m\"<ipython-input-13-7c1dddcd1d2e>\"\u001b[1;36m, line \u001b[1;32m8\u001b[0m\n\u001b[1;33m    if(list[items] >= list[items+1])\u001b[0m\n\u001b[1;37m                                    ^\u001b[0m\n\u001b[1;31mSyntaxError\u001b[0m\u001b[1;31m:\u001b[0m invalid syntax\n"
     ]
    }
   ],
   "source": [
    "print(\"LARGEST NUM IN A LIST\")\n",
    "# list = [1, 100, 3, 4, 6, 2, 22, 54, 11]\n",
    "list = [2,1, 3]\n",
    "print(list[1])\n",
    "# print(\"LIST ITEMS \", list)\n",
    "\n",
    "for items in list:\n",
    "    if(list[items] >= list[items+1])\n",
    "    print(list[items])"
   ]
  },
  {
   "cell_type": "code",
   "execution_count": 14,
   "metadata": {},
   "outputs": [
    {
     "name": "stdout",
     "output_type": "stream",
     "text": [
      "LARGEST NUM IN A LIST\n",
      "1\n",
      "3\n"
     ]
    }
   ],
   "source": [
    "print(\"LARGEST NUM IN A LIST\")\n",
    "# list = [1, 100, 3, 4, 6, 2, 22, 54, 11]\n",
    "list = [2,1, 3]\n",
    "print(list[1])\n",
    "# print(\"LIST ITEMS \", list)\n",
    "\n",
    "print(max(list))"
   ]
  },
  {
   "cell_type": "code",
   "execution_count": 15,
   "metadata": {},
   "outputs": [
    {
     "name": "stdout",
     "output_type": "stream",
     "text": [
      "LARGEST NUM IN A LIST\n",
      "LIST ITEMS:  [1, 100, 3, 4, 6, 2, 22, 54, 11]\n",
      "LARGEST NUM IN THE LIST  100\n"
     ]
    }
   ],
   "source": [
    "print(\"LARGEST NUM IN A LIST\")\n",
    "list = [1, 100, 3, 4, 6, 2, 22, 54, 11]\n",
    "print(\"LIST ITEMS: \",list)\n",
    "print(\"LARGEST NUM IN THE LIST \",max(list))"
   ]
  },
  {
   "cell_type": "code",
   "execution_count": 16,
   "metadata": {},
   "outputs": [
    {
     "name": "stdout",
     "output_type": "stream",
     "text": [
      "prints out all the elements of the list that are less than 5.\n",
      "LIST ITEMS:  [1, 1, 2, 3, 5, 8, 13, 21, 34, 55, 89]\n",
      "LIST ITEMS:  [1, 1, 2, 3, 5, 8, 13, 21, 34, 55, 89]\n"
     ]
    }
   ],
   "source": [
    "print(\"prints out all the elements of the list that are less than 5.\")\n",
    "a = [1, 1, 2, 3, 5, 8, 13, 21, 34, 55, 89]\n",
    "print(\"LIST ITEMS: \",a)\n",
    "a.sort()\n",
    "print(\"LIST ITEMS: \",a)\n",
    "# print(\"LARGEST NUM IN THE LIST \",max(list))\n",
    "for items in list:\n",
    "    if(list[items] < 5)\n",
    "    print(list)\n"
   ]
  },
  {
   "cell_type": "code",
   "execution_count": 17,
   "metadata": {},
   "outputs": [
    {
     "ename": "SyntaxError",
     "evalue": "invalid syntax (<ipython-input-17-cec5db2930b2>, line 8)",
     "output_type": "error",
     "traceback": [
      "\u001b[1;36m  File \u001b[1;32m\"<ipython-input-17-cec5db2930b2>\"\u001b[1;36m, line \u001b[1;32m8\u001b[0m\n\u001b[1;33m    if(list[items] < 5)\u001b[0m\n\u001b[1;37m                       ^\u001b[0m\n\u001b[1;31mSyntaxError\u001b[0m\u001b[1;31m:\u001b[0m invalid syntax\n"
     ]
    }
   ],
   "source": [
    "print(\"prints out all the elements of the list that are less than 5.\")\n",
    "a = [1, 1, 2, 3, 5, 8, 13, 21, 34, 55, 89]\n",
    "print(\"LIST ITEMS: \",a)\n",
    "a.sort()\n",
    "print(\"LIST ITEMS: \",a)\n",
    "# print(\"LARGEST NUM IN THE LIST \",max(list))\n",
    "for items in list:\n",
    "    if(list[items] < 5)\n",
    "    print(list)\n"
   ]
  },
  {
   "cell_type": "code",
   "execution_count": 18,
   "metadata": {},
   "outputs": [
    {
     "ename": "SyntaxError",
     "evalue": "invalid syntax (<ipython-input-18-2754cf1020e4>, line 8)",
     "output_type": "error",
     "traceback": [
      "\u001b[1;36m  File \u001b[1;32m\"<ipython-input-18-2754cf1020e4>\"\u001b[1;36m, line \u001b[1;32m8\u001b[0m\n\u001b[1;33m    if(a[items] < 5)\u001b[0m\n\u001b[1;37m                    ^\u001b[0m\n\u001b[1;31mSyntaxError\u001b[0m\u001b[1;31m:\u001b[0m invalid syntax\n"
     ]
    }
   ],
   "source": [
    "print(\"prints out all the elements of the list that are less than 5.\")\n",
    "a = [1, 1, 2, 3, 5, 8, 13, 21, 34, 55, 89]\n",
    "print(\"LIST ITEMS: \",a)\n",
    "a.sort()\n",
    "print(\"LIST ITEMS: \",a)\n",
    "# print(\"LARGEST NUM IN THE LIST \",max(list))\n",
    "for items in a:\n",
    "    if(a[items] < 5)\n",
    "    print(a)\n"
   ]
  },
  {
   "cell_type": "code",
   "execution_count": 19,
   "metadata": {},
   "outputs": [
    {
     "ename": "SyntaxError",
     "evalue": "invalid syntax (<ipython-input-19-c2a6da34db46>, line 8)",
     "output_type": "error",
     "traceback": [
      "\u001b[1;36m  File \u001b[1;32m\"<ipython-input-19-c2a6da34db46>\"\u001b[1;36m, line \u001b[1;32m8\u001b[0m\n\u001b[1;33m    if(list[items] === 1)\u001b[0m\n\u001b[1;37m                     ^\u001b[0m\n\u001b[1;31mSyntaxError\u001b[0m\u001b[1;31m:\u001b[0m invalid syntax\n"
     ]
    }
   ],
   "source": [
    "print(\"prints out all the elements of the list that are less than 5.\")\n",
    "a = [1, 1, 2, 3, 5, 8, 13, 21, 34, 55, 89]\n",
    "print(\"LIST ITEMS: \",a)\n",
    "a.sort()\n",
    "print(\"LIST ITEMS: \",a)\n",
    "# print(\"LARGEST NUM IN THE LIST \",max(list))\n",
    "for items in list:\n",
    "    if(list[items] === 1)\n",
    "    print(list)"
   ]
  },
  {
   "cell_type": "code",
   "execution_count": 20,
   "metadata": {},
   "outputs": [
    {
     "ename": "SyntaxError",
     "evalue": "invalid syntax (<ipython-input-20-921f70eeb6e5>, line 8)",
     "output_type": "error",
     "traceback": [
      "\u001b[1;36m  File \u001b[1;32m\"<ipython-input-20-921f70eeb6e5>\"\u001b[1;36m, line \u001b[1;32m8\u001b[0m\n\u001b[1;33m    if(a[items] < a[4])\u001b[0m\n\u001b[1;37m                       ^\u001b[0m\n\u001b[1;31mSyntaxError\u001b[0m\u001b[1;31m:\u001b[0m invalid syntax\n"
     ]
    }
   ],
   "source": [
    "print(\"prints out all the elements of the list that are less than 5.\")\n",
    "a = [1, 1, 2, 3, 5, 8, 13, 21, 34, 55, 89]\n",
    "print(\"LIST ITEMS: \",a)\n",
    "a.sort()\n",
    "print(\"LIST ITEMS: \",a)\n",
    "# print(\"LARGEST NUM IN THE LIST \",max(list))\n",
    "for items in list:\n",
    "    if(a[items] < a[4])\n",
    "    print(a)"
   ]
  },
  {
   "cell_type": "code",
   "execution_count": 21,
   "metadata": {},
   "outputs": [
    {
     "ename": "SyntaxError",
     "evalue": "invalid syntax (<ipython-input-21-e25629b60a9a>, line 8)",
     "output_type": "error",
     "traceback": [
      "\u001b[1;36m  File \u001b[1;32m\"<ipython-input-21-e25629b60a9a>\"\u001b[1;36m, line \u001b[1;32m8\u001b[0m\n\u001b[1;33m    if(items < 5])\u001b[0m\n\u001b[1;37m                ^\u001b[0m\n\u001b[1;31mSyntaxError\u001b[0m\u001b[1;31m:\u001b[0m invalid syntax\n"
     ]
    }
   ],
   "source": [
    "print(\"prints out all the elements of the list that are less than 5.\")\n",
    "a = [1, 1, 2, 3, 5, 8, 13, 21, 34, 55, 89]\n",
    "print(\"LIST ITEMS: \",a)\n",
    "a.sort()\n",
    "print(\"LIST ITEMS: \",a)\n",
    "# print(\"LARGEST NUM IN THE LIST \",max(list))\n",
    "for items in list:\n",
    "    if(items < 5])\n",
    "    print(a)"
   ]
  },
  {
   "cell_type": "code",
   "execution_count": 22,
   "metadata": {},
   "outputs": [
    {
     "ename": "SyntaxError",
     "evalue": "invalid syntax (<ipython-input-22-cc2c301b212c>, line 8)",
     "output_type": "error",
     "traceback": [
      "\u001b[1;36m  File \u001b[1;32m\"<ipython-input-22-cc2c301b212c>\"\u001b[1;36m, line \u001b[1;32m8\u001b[0m\n\u001b[1;33m    if(items < 5)\u001b[0m\n\u001b[1;37m                 ^\u001b[0m\n\u001b[1;31mSyntaxError\u001b[0m\u001b[1;31m:\u001b[0m invalid syntax\n"
     ]
    }
   ],
   "source": [
    "print(\"prints out all the elements of the list that are less than 5.\")\n",
    "a = [1, 1, 2, 3, 5, 8, 13, 21, 34, 55, 89]\n",
    "print(\"LIST ITEMS: \",a)\n",
    "a.sort()\n",
    "print(\"LIST ITEMS: \",a)\n",
    "# print(\"LARGEST NUM IN THE LIST \",max(list))\n",
    "for items in list:\n",
    "    if(items < 5)\n",
    "    print(a)"
   ]
  },
  {
   "cell_type": "code",
   "execution_count": 23,
   "metadata": {},
   "outputs": [
    {
     "ename": "SyntaxError",
     "evalue": "invalid syntax (<ipython-input-23-eb144abdd44f>, line 8)",
     "output_type": "error",
     "traceback": [
      "\u001b[1;36m  File \u001b[1;32m\"<ipython-input-23-eb144abdd44f>\"\u001b[1;36m, line \u001b[1;32m8\u001b[0m\n\u001b[1;33m    if(items < 5)\u001b[0m\n\u001b[1;37m                 ^\u001b[0m\n\u001b[1;31mSyntaxError\u001b[0m\u001b[1;31m:\u001b[0m invalid syntax\n"
     ]
    }
   ],
   "source": [
    "print(\"prints out all the elements of the list that are less than 5.\")\n",
    "a = [1, 1, 2, 3, 5, 8, 13, 21, 34, 55, 89]\n",
    "print(\"LIST ITEMS: \",a)\n",
    "a.sort()\n",
    "print(\"LIST ITEMS: \",a)\n",
    "# print(\"LARGEST NUM IN THE LIST \",max(list))\n",
    "for items in list:\n",
    "    if(items < 5)\n",
    "        print(a)"
   ]
  },
  {
   "cell_type": "code",
   "execution_count": 24,
   "metadata": {},
   "outputs": [
    {
     "ename": "SyntaxError",
     "evalue": "invalid syntax (<ipython-input-24-182a47e3742a>, line 8)",
     "output_type": "error",
     "traceback": [
      "\u001b[1;36m  File \u001b[1;32m\"<ipython-input-24-182a47e3742a>\"\u001b[1;36m, line \u001b[1;32m8\u001b[0m\n\u001b[1;33m    if(items < 5)\u001b[0m\n\u001b[1;37m                 ^\u001b[0m\n\u001b[1;31mSyntaxError\u001b[0m\u001b[1;31m:\u001b[0m invalid syntax\n"
     ]
    }
   ],
   "source": [
    "print(\"prints out all the elements of the list that are less than 5.\")\n",
    "a = [1, 1, 2, 3, 5, 8, 13, 21, 34, 55, 89]\n",
    "print(\"LIST ITEMS: \",a)\n",
    "a.sort()\n",
    "print(\"LIST ITEMS: \",a)\n",
    "# print(\"LARGEST NUM IN THE LIST \",max(list))\n",
    "for items in list:\n",
    "    if(items < 5)\n",
    "        print(items)"
   ]
  },
  {
   "cell_type": "code",
   "execution_count": 25,
   "metadata": {},
   "outputs": [
    {
     "name": "stdout",
     "output_type": "stream",
     "text": [
      "prints out all the elements of the list that are less than 5.\n",
      "LIST ITEMS:  [1, 1, 2, 3, 5, 8, 13, 21, 34, 55, 89]\n",
      "LIST ITEMS:  [1, 1, 2, 3, 5, 8, 13, 21, 34, 55, 89]\n",
      "[1, 1, 2, 3, 5, 8, 13, 21, 34, 55, 89]\n",
      "[1, 1, 2, 3, 5, 8, 13, 21, 34, 55, 89]\n",
      "[1, 1, 2, 3, 5, 8, 13, 21, 34, 55, 89]\n",
      "[1, 1, 2, 3, 5, 8, 13, 21, 34, 55, 89]\n"
     ]
    }
   ],
   "source": [
    "print(\"prints out all the elements of the list that are less than 5.\")\n",
    "a = [1, 1, 2, 3, 5, 8, 13, 21, 34, 55, 89]\n",
    "print(\"LIST ITEMS: \",a)\n",
    "a.sort()\n",
    "print(\"LIST ITEMS: \",a)\n",
    "# print(\"LARGEST NUM IN THE LIST \",max(list))\n",
    "for items in list:\n",
    "    if items < 5:\n",
    "        print(a)"
   ]
  },
  {
   "cell_type": "code",
   "execution_count": null,
   "metadata": {},
   "outputs": [],
   "source": [
    "print(\"prints out all the elements of the list that are less than 5.\")\n",
    "a = [1, 1, 2, 3, 5, 8, 13, 21, 34, 55, 89]\n",
    "# print(\"LIST ITEMS: \",a)\n",
    "\n",
    "# print(\"LARGEST NUM IN THE LIST \",max(list))\n",
    "for items in list:\n",
    "    if items < 5:\n",
    "        print(a)"
   ]
  }
 ],
 "metadata": {
  "kernelspec": {
   "display_name": "Python 3",
   "language": "python",
   "name": "python3"
  },
  "language_info": {
   "codemirror_mode": {
    "name": "ipython",
    "version": 3
   },
   "file_extension": ".py",
   "mimetype": "text/x-python",
   "name": "python",
   "nbconvert_exporter": "python",
   "pygments_lexer": "ipython3",
   "version": "3.7.4"
  }
 },
 "nbformat": 4,
 "nbformat_minor": 2
}
