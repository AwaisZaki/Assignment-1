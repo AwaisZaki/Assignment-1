{
 "cells": [
  {
   "cell_type": "code",
   "execution_count": 1,
   "metadata": {},
   "outputs": [
    {
     "name": "stdout",
     "output_type": "stream",
     "text": [
      "EVEN ODD\n",
      "Enter Any Number 2\n",
      "The number 2  is even\n"
     ]
    }
   ],
   "source": [
    "print(\"EVEN ODD\")\n",
    "num = int(input(\"Enter Any Number \"))\n",
    "if((num % 2) == 0):\n",
    "    print(\"The number\", num,  \" is even\")\n",
    "else:\n",
    "    print(\"The number\", num,  \" is odd\")"
   ]
  },
  {
   "cell_type": "code",
   "execution_count": null,
   "metadata": {},
   "outputs": [],
   "source": []
  }
 ],
 "metadata": {
  "kernelspec": {
   "display_name": "Python 3",
   "language": "python",
   "name": "python3"
  },
  "language_info": {
   "codemirror_mode": {
    "name": "ipython",
    "version": 3
   },
   "file_extension": ".py",
   "mimetype": "text/x-python",
   "name": "python",
   "nbconvert_exporter": "python",
   "pygments_lexer": "ipython3",
   "version": "3.7.4"
  }
 },
 "nbformat": 4,
 "nbformat_minor": 2
}
