{
 "cells": [
  {
   "cell_type": "code",
   "execution_count": null,
   "metadata": {},
   "outputs": [],
   "source": [
    "print(\"MARKSHEET\")\n",
    "sub1 = int(input(\"Enter marks of English \"));\n",
    "sub2 = int(input(\"Enter marks of Compter \"));\n",
    "sub3 = int(input(\"Enter marks of Science \"));\n",
    "sub4 = int(input(\"Enter marks of Physics \"));\n",
    "sub5 = int(input(\"Enter marks of NLP \"));\n",
    "total_marks = sub1 + sub3 + sub3 + sub4 + sub5\n",
    "percentage = (total_marks/500) * 100\n",
    "print(\"Percentage: \", percentage, \"%\")\n",
    "\n",
    "if(percentage >=80 ):\n",
    "    print(\"Grade: A+1\")\n",
    "elif(percentage >=70):\n",
    "    print(\"Grade: A\")\n",
    "elif(percentage >=60):\n",
    "    print(\"Grade: B\")\n",
    "elif(percentage >=50):\n",
    "    print(\"Grade: C\")\n",
    "elif(percentage >=40):\n",
    "    print(\"Grade: D\")\n",
    "elif(percentage <=39):\n",
    "    print(\"Grade: Failed\")"
   ]
  }
 ],
 "metadata": {
  "kernelspec": {
   "display_name": "Python 3",
   "language": "python",
   "name": "python3"
  },
  "language_info": {
   "codemirror_mode": {
    "name": "ipython",
    "version": 3
   },
   "file_extension": ".py",
   "mimetype": "text/x-python",
   "name": "python",
   "nbconvert_exporter": "python",
   "pygments_lexer": "ipython3",
   "version": "3.7.4"
  }
 },
 "nbformat": 4,
 "nbformat_minor": 2
}
