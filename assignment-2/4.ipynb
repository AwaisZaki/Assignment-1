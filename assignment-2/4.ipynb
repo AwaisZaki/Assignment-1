{
 "cells": [
  {
   "cell_type": "code",
   "execution_count": null,
   "metadata": {},
   "outputs": [],
   "source": [
    "print(\"SUM ALL THE NUMERIC ITEM IN A LIST\")\n",
    "list = [1, 100, 3, 4, 6, 2, 22, 54, 11]\n",
    "print(\"LIST ITEMS \", list)\n",
    "sum = 0\n",
    "for items in list:\n",
    "    sum += items\n",
    "print(\"SUM OF THE LIST ITEM: \", sum)"
   ]
  }
 ],
 "metadata": {
  "kernelspec": {
   "display_name": "Python 3",
   "language": "python",
   "name": "python3"
  },
  "language_info": {
   "codemirror_mode": {
    "name": "ipython",
    "version": 3
   },
   "file_extension": ".py",
   "mimetype": "text/x-python",
   "name": "python",
   "nbconvert_exporter": "python",
   "pygments_lexer": "ipython3",
   "version": "3.7.4"
  }
 },
 "nbformat": 4,
 "nbformat_minor": 2
}
